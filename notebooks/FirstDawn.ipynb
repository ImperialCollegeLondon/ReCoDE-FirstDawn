{
 "cells": [
  {
   "cell_type": "markdown",
   "metadata": {},
   "source": [
    "# Using CNNs to learn about the physics of the birth of the first stars in the Universe"
   ]
  },
  {
   "cell_type": "markdown",
   "metadata": {},
   "source": [
    "## Table of Contents:\n",
    "* [Brief history of the Universe](#first-bullet)\n",
    "* [Setting up the problem](#second-bullet)\n",
    "* [Exploring the dataset](#third-bullet)\n",
    "* [Our first network](#forth-bullet)\n",
    "* [Stepping things up](#fifth-bullet)"
   ]
  },
  {
   "cell_type": "markdown",
   "metadata": {},
   "source": [
    "## A brief History of the Universe <a class=\"anchor\" id=\"first-bullet\"></a>"
   ]
  },
  {
   "cell_type": "markdown",
   "metadata": {},
   "source": [
    "The history of the Universe can be split into several phases. It 'started'[<sup id=\"fn1-back\">1</sup>](#fn1) with the big bang, followed by the period of cosmic inflation. This created fundamental particles, and from the resulting asymmetry between matter and antimatter, the quark-gluon plasma formed. As the primordial quark-gluon plasma cooled, protons and neutrons formed. The energy released from baryon formation and other processes led to an abundance of photons at this time. This period is known the radiation dominated era. \n",
    "\n",
    "As the Universe cooled even more, it transitioned into the matter dominated era, at $z \\approx 3300$. At $z \\approx 1100$ (100 000 years after the Big Bang), the Universe was cool enough for electrons to recombine with protons to form neutral hydrogen -- which then combined to form the lighter elements (known as recombination). This led to photons' decoupling from baryons, creating what we now observe as the Cosmic Microwave Background (CMB). \n",
    "\n",
    "Following the formation of the CMB, the Universe went through what's known as the dark ages; this is when the Universe was made primarily of neutral gasses, and no stars. As the universe cooled even more, these neutral gasses started to collapse and create the first stars and galaxies. These first stars (called population III stars) flooded the surrounding gas with ionising photons. This period in the Universe's history is known as the Epoch of Reionisation (EoR). As more stars and galaxies formed, the entire inter-stellar medium became ionised again. The evolution of the Universe's history is shown in the sketch below:\n",
    "\n",
    "![alternative text](figures/history.jpg)\n",
    "\n",
    "\n",
    "[<sup id=\"fn1\">1</sup>](#fn1-back) Using 'started' in a very loose sense."
   ]
  },
  {
   "cell_type": "markdown",
   "metadata": {},
   "source": [
    "## Setting up the problem <a class=\"anchor\" id=\"second-bullet\"></a>"
   ]
  },
  {
   "cell_type": "markdown",
   "metadata": {},
   "source": [
    "An open problem in EoR research is how best to constrain the reionization history using 21 cm intensity measurements. One common approach is to use summary statistics such as the power spectrum[<sup id=\"fn2-back\">2</sup>](#fn2). Fully Bayesian parameter inference methods  have been developed for this task[<sup id=\"fn3-back\">3</sup>](#fn3). However, the 21~cm signal from the EoR is expected to be non-Gaussian, implying that there is significant information encoded in higher-order statistics such as the bispectrum[<sup id=\"fn4-back\">4</sup>](#fn4). But all such summaries still entail some loss of information. The Square Kilometer Array[<sup id=\"fn5-back\">5</sup>](#fn5) will produce tomography throughout the EoR, allowing the possibility of inferring parameters from the maps themselves. However, the amount of data and large parameter space pose significant challenges for traditional statistical inference methods, and instead the problem necessitates the deployment of machine learning methods.\n",
    "\n",
    "[<sup id=\"fn2\">2</sup>](#fn2-back) Trotta et al (2016), Pober et al (2014)\n",
    "\n",
    "[<sup id=\"fn3\">3</sup>](#fn3-back) Greig et al (2015), Greig et al (2017)\n",
    "\n",
    "[<sup id=\"fn4\">4</sup>](#fn4-back) Majumdar et al (2018), Shimabukuro et al (2016)\n",
    "\n",
    "[<sup id=\"fn5\">5</sup>](#fn5-back) www.skao.int"
   ]
  },
  {
   "cell_type": "code",
   "execution_count": null,
   "metadata": {},
   "outputs": [],
   "source": []
  }
 ],
 "metadata": {
  "kernelspec": {
   "display_name": "venv_recode",
   "language": "python",
   "name": "venv_recode"
  },
  "language_info": {
   "codemirror_mode": {
    "name": "ipython",
    "version": 3
   },
   "file_extension": ".py",
   "mimetype": "text/x-python",
   "name": "python",
   "nbconvert_exporter": "python",
   "pygments_lexer": "ipython3",
   "version": "3.8.10"
  }
 },
 "nbformat": 4,
 "nbformat_minor": 4
}
